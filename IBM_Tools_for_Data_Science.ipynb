{
  "nbformat": 4,
  "nbformat_minor": 0,
  "metadata": {
    "colab": {
      "provenance": []
    },
    "kernelspec": {
      "name": "python3",
      "display_name": "Python 3"
    },
    "language_info": {
      "name": "python"
    }
  },
  "cells": [
    {
      "cell_type": "markdown",
      "source": [
        "# **IBM_Tools_for_Data_Science**"
      ],
      "metadata": {
        "id": "EOZGLFxuvZvV"
      }
    },
    {
      "cell_type": "markdown",
      "source": [
        "# **Introduction**\n",
        "\n",
        "This notebook was developed to meet the final work of the Tools for Data Science – IBM course, where it will demonstrate my knowledge in the Jupyter Notebook environment in a basic way."
      ],
      "metadata": {
        "id": "lGdDJgwmv5os"
      }
    },
    {
      "cell_type": "markdown",
      "source": [
        "# **Data Science Languages**\n",
        "\n",
        "* **Python**\n",
        "* **R**\n",
        "* **SQL**\n",
        "* **Java**\n",
        "* **Scala**\n",
        "* **Julia**"
      ],
      "metadata": {
        "id": "BTZEshIeiajb"
      }
    },
    {
      "cell_type": "markdown",
      "source": [
        "# **List Data Science Libraries**\n",
        "\n",
        "* **Pandas**\n",
        "\n",
        "* **Numpy**\n",
        "\n",
        "* **Matplotlib**\n",
        "\n",
        "* **Seaborn**\n",
        "\n",
        "* **Scikit-learn**\n",
        "\n",
        "* **Keras**\n",
        "\n",
        "* **TensorFlow**\n",
        "\n",
        "* **PyTorch**\n",
        "\n",
        "* **Apache Spark**\n",
        "\n",
        "* **Vegas**\n",
        "\n",
        "* **Big DL**\n",
        "\n",
        "* **Ggplot2**\n"
      ],
      "metadata": {
        "id": "FaAPwnq_jI9W"
      }
    },
    {
      "cell_type": "markdown",
      "source": [
        "<table>\n",
        "    <thead>\n",
        "        <tr>\n",
        "            <th>Data Science Tools</th>\n",
        "        </tr>\n",
        "    </thead>\n",
        "    <tbody>\n",
        "        <tr>\n",
        "            <td>Anaconda</td>\n",
        "        </tr>\n",
        "        <tr>\n",
        "            <td>Jupyter Notebooks</td>\n",
        "        </tr>\n",
        "        <tr>\n",
        "            <td>R Studio</td>\n",
        "        </tr>\n",
        "        <tr>\n",
        "            <td>Spyder</td>\n",
        "        </tr>\n",
        "        <tr>\n",
        "            <td>Zeppelin</td>\n",
        "        </tr>\n",
        "    </tbody>\n",
        "</table>\n"
      ],
      "metadata": {
        "id": "Kj0aZJtgkioo"
      }
    },
    {
      "cell_type": "markdown",
      "source": [
        "## Arithmetic Expressions Examples\n",
        "\n",
        "**Basic Operations:**\n",
        "\n",
        "* **Addition:** 5 + 3 = 8 (five plus three equals eight)\n",
        "* **Subtraction:** 10 - 4 = 6 (ten minus four equals six)\n",
        "* **Multiplication:** 6 \\* 7 = 42 (six times seven equals forty-two)\n",
        "* **Division:** 15 / 3 = 5 (fifteen divided by three equals five)\n",
        "\n",
        "**More Complex Expressions:**\n",
        "\n",
        "* (2 + 3) \\* 4 = 20 (two plus three, multiplied by four, equals twenty)\n",
        "* 10 - 2 / 2 = 9 (ten minus two divided by two equals nine)\n",
        "* 2^3 = 8 (two to the power of three equals eight)\n",
        "* sqrt(16) = 4 (the square root of sixteen equals four)\n",
        "* 10 % 3 = 1 (ten modulo three equals one)\n",
        "\n",
        "**Explanation of terms:**\n",
        "\n",
        "* **plus:** (+)\n",
        "* **minus:** (-)\n",
        "* **times:** (\\*)\n",
        "* **divided by:** (/)\n",
        "* **to the power of:** (\\^)\n",
        "* **square root of:** (sqrt)\n",
        "* **modulo:** (%)\n",
        "\n",
        "These examples demonstrate various arithmetic operations and their corresponding expressions in English."
      ],
      "metadata": {
        "id": "IECyR4slk8JD"
      }
    },
    {
      "cell_type": "code",
      "source": [
        "# Improved Code:\n",
        "\n",
        "# Define variables with descriptive names\n",
        "multiplier1 = 3\n",
        "multiplier2 = 5\n",
        "addend1 = 7\n",
        "addend2 = 3\n",
        "\n",
        "# Perform and display multiplication\n",
        "product = multiplier1 * multiplier2\n",
        "print(f\"The product of {multiplier1} and {multiplier2} is: {product}\")\n",
        "\n",
        "# Perform and display addition\n",
        "sum_result = addend1 + addend2\n",
        "print(f\"The sum of {addend1} and {addend2} is: {sum_result}\")"
      ],
      "metadata": {
        "colab": {
          "base_uri": "https://localhost:8080/"
        },
        "id": "emmp-qiElVZY",
        "outputId": "45f98b30-ae41-4a4e-bd94-9a46d48f273a"
      },
      "execution_count": null,
      "outputs": [
        {
          "output_type": "stream",
          "name": "stdout",
          "text": [
            "The product of 3 and 5 is: 15\n",
            "The sum of 7 and 3 is: 10\n"
          ]
        }
      ]
    },
    {
      "cell_type": "code",
      "source": [
        "def minutes_to_hours(minutes):\n",
        "  if minutes is None or not isinstance(minutes, (int, float)) or minutes < 0:\n",
        "    print('invalid input')\n",
        "    return\n",
        "\n",
        "  hours = minutes // 60\n",
        "  print(f\"{minutes} minutes is equal to {hours} hours\")\n",
        "\n",
        "# Define variables with descriptive names\n",
        "time = 195\n",
        "\n",
        "minutes_to_hours(time)\n"
      ],
      "metadata": {
        "colab": {
          "base_uri": "https://localhost:8080/"
        },
        "id": "ZIIW2FBkpAiQ",
        "outputId": "90f3d786-89f1-4904-fc6c-7cf578c750f9"
      },
      "execution_count": null,
      "outputs": [
        {
          "output_type": "stream",
          "name": "stdout",
          "text": [
            "195 minutes is equal to 3 hours\n"
          ]
        }
      ]
    },
    {
      "cell_type": "markdown",
      "source": [
        "## Objectives\n",
        "\n",
        "* **To learn:** To acquire knowledge or skills in a specific area.\n",
        "* **To improve:** To make something better or more effective.\n",
        "* **To achieve:** To successfully reach a goal.\n",
        "* **To increase:** To make something larger or more numerous.\n",
        "* **To develop:** To grow or cause to grow and become more mature, advanced, or elaborate.\n",
        "* **To create:** To bring something into existence.\n",
        "* **To complete:** To finish something.\n",
        "* **To succeed:** To achieve a desired aim or result.\n",
        "* **To excel:** To be exceptionally good at or proficient in an activity or subject.\n",
        "* **To contribute:** To give (something, especially money or time) to help achieve or provide something.\n",
        "* **To master:** To acquire complete knowledge or skill in (a subject, technique, or art).\n",
        "* **To innovate:** Introduce new ideas; make changes in anything established.\n",
        "* **To optimize:** Make the best or most effective use of (a situation, opportunity, or resource).\n",
        "* **To expand:** Become or make larger or more extensive.\n",
        "* **To enhance:** To improve the quality, amount, or strength of something."
      ],
      "metadata": {
        "id": "Bp3ZOMm5qcAw"
      }
    },
    {
      "cell_type": "markdown",
      "source": [
        "<h2>Author</h2>\n",
        "\n",
        "Aderlian Strapazzon Lange\n"
      ],
      "metadata": {
        "id": "8W7WNs5FqwiP"
      }
    }
  ]
}